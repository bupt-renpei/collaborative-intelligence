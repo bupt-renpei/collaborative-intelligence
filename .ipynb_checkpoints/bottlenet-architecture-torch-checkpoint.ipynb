{
 "cells": [
  {
   "cell_type": "markdown",
   "metadata": {},
   "source": [
    "In this notebook, we show a simple implementation of BottleNet paper, in which we add a non-differentiable layer to a neural network and try to implement its custom gradient."
   ]
  },
  {
   "cell_type": "code",
   "execution_count": 1,
   "metadata": {},
   "outputs": [],
   "source": [
    "from __future__ import print_function\n",
    "import argparse\n",
    "import torch\n",
    "import torch.nn as nn\n",
    "import torch.nn.functional as F\n",
    "import torch.optim as optim\n",
    "from torchvision import datasets, transforms\n",
    "from torch.optim.lr_scheduler import StepLR\n",
    "from torchvision import transforms\n",
    "\n",
    "from io import BytesIO\n",
    "from PIL import Image"
   ]
  },
  {
   "cell_type": "markdown",
   "metadata": {},
   "source": [
    "We can define custom functions with user-defined derivatives in torch. In the forward pass, we compute the JPEG compressed/decompressed values on the feature tensor. In the backward pass, we approximate the derivative of the JPEG compressor/decompressor pair by the identity function, which means the output gradients will back-propagate to the previous layer without any change. "
   ]
  },
  {
   "cell_type": "code",
   "execution_count": 2,
   "metadata": {},
   "outputs": [],
   "source": [
    "class BottleneckUnit(torch.autograd.Function):\n",
    "    @staticmethod\n",
    "    def forward(ctx, x):\n",
    "        result = torch.zeros_like(x)\n",
    "        batch_size, channels, w, h = x.shape\n",
    "        outputIoStream = BytesIO()\n",
    "        image = transforms.ToPILImage()(x.view(batch_size*channels,w*h)) #batch_size*channels, w*h))\n",
    "        image.save(outputIoStream, \"JPEG\", quality=90)\n",
    "        outputIoStream.seek(0)\n",
    "        decompressed = Image.open(outputIoStream)\n",
    "        result = transforms.ToTensor()(decompressed)\n",
    "        result = result.view(batch_size, channels, w, h)\n",
    "        return result\n",
    "\n",
    "    @staticmethod\n",
    "    def backward(ctx, grad_output):\n",
    "        return grad_output"
   ]
  },
  {
   "cell_type": "code",
   "execution_count": 3,
   "metadata": {},
   "outputs": [],
   "source": [
    "class Net(nn.Module):\n",
    "    def __init__(self):\n",
    "        super(Net, self).__init__()\n",
    "        self.conv1 = nn.Conv2d(1, 32, 3, 1)\n",
    "        self.conv2 = nn.Conv2d(32, 64, 3, 1)\n",
    "        self.conv3 = nn.Conv2d(64, 64, 3, 1)\n",
    "        self.dropout = nn.Dropout2d(0.1)\n",
    "        self.fc1 = nn.Linear(6400, 128)\n",
    "        self.fc2 = nn.Linear(128, 10)\n",
    "\n",
    "    def forward(self, x):\n",
    "        x = self.conv1(x)\n",
    "        x = F.relu(x)\n",
    "        x = self.conv2(x)\n",
    "        x = F.relu(x)\n",
    "        x = F.max_pool2d(x, 2)\n",
    "        x = self.dropout(x)\n",
    "        x = BottleneckUnit.apply(x) #this is where we add our JPEG compressor/decompressor\n",
    "        x = self.conv3(x)\n",
    "        x = F.relu(x)\n",
    "        x = self.dropout(x)\n",
    "        x = torch.flatten(x, 1)\n",
    "        x = self.fc1(x)\n",
    "        x = F.relu(x)\n",
    "        x = self.dropout(x)\n",
    "        x = self.fc2(x)\n",
    "        output = F.log_softmax(x, dim=1)\n",
    "        return output"
   ]
  },
  {
   "cell_type": "markdown",
   "metadata": {},
   "source": [
    "The rest of the code is a typical training loop and optimizers."
   ]
  },
  {
   "cell_type": "code",
   "execution_count": 4,
   "metadata": {},
   "outputs": [],
   "source": [
    "def train(model, device, train_loader, optimizer, epoch):\n",
    "    model.train()\n",
    "    for batch_idx, (data, target) in enumerate(train_loader):\n",
    "        data, target = data.to(device), target.to(device)\n",
    "        optimizer.zero_grad()\n",
    "        output = model(data)\n",
    "        loss = F.nll_loss(output, target)\n",
    "        loss.backward()\n",
    "        optimizer.step()\n",
    "        if batch_idx % 30 == 0:\n",
    "            print('Train Epoch: {} [{}/{} ({:.0f}%)]\\tLoss: {:.6f}'.format(\n",
    "                epoch, batch_idx * len(data), len(train_loader.dataset),\n",
    "                100. * batch_idx / len(train_loader), loss.item()))"
   ]
  },
  {
   "cell_type": "code",
   "execution_count": 5,
   "metadata": {},
   "outputs": [],
   "source": [
    "def test(model, device, test_loader):\n",
    "    model.eval()\n",
    "    test_loss = 0\n",
    "    correct = 0\n",
    "    with torch.no_grad():\n",
    "        for data, target in test_loader:\n",
    "            data, target = data.to(device), target.to(device)\n",
    "            output = model(data)\n",
    "            test_loss += F.nll_loss(output, target, reduction='sum').item()  # sum up batch loss\n",
    "            pred = output.argmax(dim=1, keepdim=True)  # get the index of the max log-probability\n",
    "            correct += pred.eq(target.view_as(pred)).sum().item()\n",
    "\n",
    "    test_loss /= len(test_loader.dataset)\n",
    "\n",
    "    print('\\nTest set: Average loss: {:.4f}, Accuracy: {}/{} ({:.0f}%)\\n'.format(\n",
    "        test_loss, correct, len(test_loader.dataset),\n",
    "        100. * correct / len(test_loader.dataset)))"
   ]
  },
  {
   "cell_type": "code",
   "execution_count": 6,
   "metadata": {},
   "outputs": [
    {
     "name": "stdout",
     "output_type": "stream",
     "text": [
      "Train Epoch: 1 [0/60000 (0%)]\tLoss: 2.302764\n",
      "Train Epoch: 1 [3840/60000 (6%)]\tLoss: 1.309572\n",
      "Train Epoch: 1 [7680/60000 (13%)]\tLoss: 0.842997\n",
      "Train Epoch: 1 [11520/60000 (19%)]\tLoss: 0.893695\n",
      "Train Epoch: 1 [15360/60000 (26%)]\tLoss: 0.688249\n",
      "Train Epoch: 1 [19200/60000 (32%)]\tLoss: 0.854157\n",
      "Train Epoch: 1 [23040/60000 (38%)]\tLoss: 0.591457\n",
      "Train Epoch: 1 [26880/60000 (45%)]\tLoss: 0.466911\n",
      "Train Epoch: 1 [30720/60000 (51%)]\tLoss: 0.660444\n",
      "Train Epoch: 1 [34560/60000 (58%)]\tLoss: 0.444245\n",
      "Train Epoch: 1 [38400/60000 (64%)]\tLoss: 0.581069\n",
      "Train Epoch: 1 [42240/60000 (70%)]\tLoss: 0.335881\n",
      "Train Epoch: 1 [46080/60000 (77%)]\tLoss: 0.464150\n",
      "Train Epoch: 1 [49920/60000 (83%)]\tLoss: 0.317720\n",
      "Train Epoch: 1 [53760/60000 (90%)]\tLoss: 0.400302\n",
      "Train Epoch: 1 [57600/60000 (96%)]\tLoss: 0.759805\n",
      "\n",
      "Test set: Average loss: 0.4868, Accuracy: 8641/10000 (86%)\n",
      "\n",
      "Train Epoch: 2 [0/60000 (0%)]\tLoss: 0.538097\n",
      "Train Epoch: 2 [3840/60000 (6%)]\tLoss: 0.574778\n",
      "Train Epoch: 2 [7680/60000 (13%)]\tLoss: 0.388432\n",
      "Train Epoch: 2 [11520/60000 (19%)]\tLoss: 0.396619\n",
      "Train Epoch: 2 [15360/60000 (26%)]\tLoss: 0.298431\n",
      "Train Epoch: 2 [19200/60000 (32%)]\tLoss: 0.286968\n",
      "Train Epoch: 2 [23040/60000 (38%)]\tLoss: 0.299925\n",
      "Train Epoch: 2 [26880/60000 (45%)]\tLoss: 0.284075\n",
      "Train Epoch: 2 [30720/60000 (51%)]\tLoss: 0.297699\n",
      "Train Epoch: 2 [34560/60000 (58%)]\tLoss: 0.245239\n",
      "Train Epoch: 2 [38400/60000 (64%)]\tLoss: 0.210820\n",
      "Train Epoch: 2 [42240/60000 (70%)]\tLoss: 0.394076\n",
      "Train Epoch: 2 [46080/60000 (77%)]\tLoss: 0.168269\n",
      "Train Epoch: 2 [49920/60000 (83%)]\tLoss: 0.283078\n",
      "Train Epoch: 2 [53760/60000 (90%)]\tLoss: 0.166637\n",
      "Train Epoch: 2 [57600/60000 (96%)]\tLoss: 0.122987\n",
      "\n",
      "Test set: Average loss: 0.1947, Accuracy: 9411/10000 (94%)\n",
      "\n"
     ]
    }
   ],
   "source": [
    "use_cuda = torch.cuda.is_available()\n",
    "torch.manual_seed(0)\n",
    "device = torch.device(\"cuda\" if use_cuda else \"cpu\")\n",
    "train_loader = torch.utils.data.DataLoader(\n",
    "    datasets.MNIST('./data', train=True, download=True,\n",
    "                   transform=transforms.Compose([\n",
    "                       transforms.ToTensor(),\n",
    "                       transforms.Normalize((0.1307,), (0.3081,))\n",
    "                   ])),\n",
    "    batch_size=128, shuffle=True, num_workers=2, pin_memory=True)\n",
    "test_loader = torch.utils.data.DataLoader(\n",
    "    datasets.MNIST('./data', train=False, transform=transforms.Compose([\n",
    "                   transforms.ToTensor(),\n",
    "                   transforms.Normalize((0.1307,), (0.3081,))\n",
    "               ])),\n",
    "    batch_size=128, shuffle=False, num_workers=2, pin_memory=True)\n",
    "\n",
    "model = Net().to(device)\n",
    "optimizer = optim.Adadelta(model.parameters(), lr=0.1)\n",
    "\n",
    "scheduler = StepLR(optimizer, step_size=1, gamma=0.7)\n",
    "for epoch in range(1, 3):\n",
    "    train(model, device, train_loader, optimizer, epoch)\n",
    "    test(model, device, test_loader)\n",
    "    scheduler.step()"
   ]
  }
 ],
 "metadata": {
  "kernelspec": {
   "display_name": "Python 3",
   "language": "python",
   "name": "python3"
  },
  "language_info": {
   "codemirror_mode": {
    "name": "ipython",
    "version": 3
   },
   "file_extension": ".py",
   "mimetype": "text/x-python",
   "name": "python",
   "nbconvert_exporter": "python",
   "pygments_lexer": "ipython3",
   "version": "3.6.5"
  }
 },
 "nbformat": 4,
 "nbformat_minor": 2
}
